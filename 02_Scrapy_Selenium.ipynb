{
 "cells": [
  {
   "cell_type": "markdown",
   "metadata": {},
   "source": [
    "## Selenium Introduction"
   ]
  },
  {
   "cell_type": "markdown",
   "metadata": {},
   "source": [
    "    # importing the selenium webdriver\n",
    "    from selenium import webdriver\n",
    "\n",
    "    # importing common keys (keyboard keys such as, ENTER, ALT etc.)\n",
    "    from selenium.webdriver.common.keys import Keys\n",
    "\n",
    "    # to identify the path of the Chrome webdriver on the disk\n",
    "    from shutil import which\n",
    "\n",
    "    # to define certain options for the webdriver settings\n",
    "    from selenium.webdriver.chrome.options import Options\n",
    "\n",
    "    # determines the path of chromedriver\n",
    "    driver_path = which(\"chromedriver\")\n",
    "\n",
    "    # to launch the webdriver instance as headless\n",
    "    # chrome_options = Options()\n",
    "    # chrome_options.add_argument(\"--headless\")\n",
    "\n",
    "    # instantiates an instance of Chrome using the chromedriver with options set to chrome_options\n",
    "    driver = webdriver.Chrome(executable_path=driver_path)  # (executable_path=driver_path, options=chrome_options)\n",
    "    driver.get(\"https://www.duckduckgo.com\")  # gets the website from the link\n",
    "\n",
    "    # To select a particular element using a css selector\n",
    "    input_box = driver.find_element_by_css_selector(\"#search_form_input_homepage\")\n",
    "\n",
    "    # To select multiple elements (selected by a single css selector) use driver.find_elements_by_css_selector().\n",
    "    # Remember that position starts from 0 similar to index numbers.\n",
    "\n",
    "    # To type\n",
    "    input_box.send_keys(\"My User Agent\")  \n",
    "\n",
    "    # Selecting the search button and clicking it.\n",
    "    # src_btn = driver.find_element_by_css_selector(\"#search_button_homepage\")\n",
    "    # src_btn.click()\n",
    "\n",
    "    # Pressing Enter after typing\n",
    "    input_box.send_keys(Keys.ENTER)\n",
    "\n",
    "    # the html source code of the page\n",
    "    resp = driver.page_source\n",
    "\n",
    "    print(resp)\n",
    "\n",
    "    # close the webdriver\n",
    "    driver.close()"
   ]
  },
  {
   "cell_type": "markdown",
   "metadata": {},
   "source": [
    "For more information read the documentation at - <url>https://selenium-python.readthedocs.io/</url>"
   ]
  },
  {
   "cell_type": "markdown",
   "metadata": {},
   "source": [
    "## Setting up scrapy-selenium"
   ]
  },
  {
   "cell_type": "markdown",
   "metadata": {},
   "source": [
    "In the settings.py file append the following lines.\n",
    "\n",
    "    from shutil import which\n",
    "\n",
    "    SELENIUM_DRIVER_NAME = 'chrome'\n",
    "    SELENIUM_DRIVER_EXECUTABLE_PATH = which('chromedriver')\n",
    "    SELENIUM_DRIVER_ARGUMENTS = ['--incognito'] # headless\n",
    "    \n",
    "    DOWNLOADER_MIDDLEWARES = {'scrapy_selenium.SeleniumMiddleware': 800,\n",
    "    'scrapy.downloadermiddlewares.useragent.UserAgentMiddleware': None,\n",
    "    '<folder_name>.middlewares.UserAgentRotatorMiddleware': 400}"
   ]
  },
  {
   "cell_type": "markdown",
   "metadata": {},
   "source": [
    "## Using the scrapy-selenium middleware"
   ]
  },
  {
   "cell_type": "markdown",
   "metadata": {},
   "source": [
    "First create a .py file inside the spiders folder. Now,"
   ]
  },
  {
   "cell_type": "markdown",
   "metadata": {},
   "source": [
    "    # import the time module\n",
    "    import time\n",
    "\n",
    "    import scrapy\n",
    "\n",
    "    # to use the itemloaders\n",
    "    \"\"\"\n",
    "    Item Loaders provide a convenient mechanism for populating scraped items. Even though items can be populated directly, Item Loaders provide a much more convenient API for populating them from a scraping process, by automating some common tasks, like, parsing the raw extracted data before assigning it to a field.\n",
    "    \"\"\"\n",
    "    from scrapy.loader import ItemLoader\n",
    "\n",
    "    # to convert a string to a selector object\n",
    "    from scrapy.selector import Selector\n",
    "\n",
    "    # To send request using selenium (instead of scrapy)\n",
    "    from scrapy_selenium import SeleniumRequest\n",
    "\n",
    "    # TO handle common Exceptions\n",
    "    # if the selected element we want to interact with (say a search box or a button) is not interactable\n",
    "    from selenium.common.exceptions import ElementNotInteractableException\n",
    "    # if the selected element is not present in the response recieved by the selenium request\n",
    "    from selenium.common.exceptions import NoSuchElementException\n",
    "\n",
    "    # to select element \"By\" any of the properties (say class, id, tag etc.)\n",
    "    from selenium.webdriver.common.by import By\n",
    "\n",
    "    # to import common keys (keyboard keys such as, ENTER, ALT etc.)\n",
    "    from selenium.webdriver.common.keys import Keys\n",
    "\n",
    "    # to use conditions for an operation or particular action such as to wait for a fixed amount of time until a particular element(s) is clickable or is located in the page source. \n",
    "    \"\"\"\n",
    "    Some common EC methods are --\n",
    "    \"\"\"\n",
    "    # EC.presence_of_element_located((By.CSS_SELECTOR, \"css selector\"))\n",
    "    # EC.presence_of_all_elements_located((By.CSS_SELECTOR, \"css selector\"))\n",
    "    # EC.element_to_be_clickable((By.ID, 'id'))\n",
    "\n",
    "    \"\"\" (Remember, the arguments to these methods must be supplied in a tuple) \"\"\"\n",
    "\n",
    "    from selenium.webdriver.support import expected_conditions as EC\n",
    "\n",
    "    # to define how much time to wait before selenium intiates a particular action\n",
    "    from selenium.webdriver.support.ui import WebDriverWait\n",
    "\n",
    "    # to import the items class and use the created fields\n",
    "    from ..items import __Item_Class_Name__\n",
    "\n",
    "    # to identify the path of the Chrome webdriver on the disk\n",
    "    from shutil import which\n",
    "\n",
    "    # to define certain options for the webdriver settings\n",
    "    from selenium.webdriver.chrome.options import Options\n",
    "\n",
    "    # determines the path of chromedriver\n",
    "    driver_path = which(\"chromedriver\")\n",
    "\n",
    "    # to launch the webdriver instance as headless\n",
    "    # chrome_options = Options()\n",
    "    # chrome_options.add_argument(\"--headless\")\n",
    "\n",
    "    # instantiates an instance of Chrome using the chromedriver with options set to chrome_options\n",
    "    driver = webdriver.Chrome(executable_path=driver_path)  # (executable_path=driver_path, options=chrome_options)\n",
    "\n",
    "    class NameSpider(scrapy.Spider):\n",
    "        name = 'Name'\n",
    "\n",
    "        def start_requests(self):\n",
    "            yield SeleniumRequest(\n",
    "                url=\"https://www.abcde.net\",\n",
    "                callback=self.__callback_function__,\n",
    "                wait_time=10,\n",
    "                wait_until=EC.element_to_be_clickable((By.ID, 'id'))\n",
    "            )\n",
    "\n",
    "        def __callback_function__(self, response):\n",
    "            # get the driver\n",
    "            driver = response.request.meta[\"driver\"]\n",
    "            # Code\n",
    "            pass "
   ]
  },
  {
   "cell_type": "markdown",
   "metadata": {},
   "source": [
    "#### Normalizing space"
   ]
  },
  {
   "cell_type": "markdown",
   "metadata": {},
   "source": [
    "    # Import Regex\n",
    "    import re\n",
    "\n",
    "    # equivalent of the normalize-space function used in xpath\n",
    "\n",
    "    def normalize_space(string):\n",
    "        string = string.strip()\n",
    "        string = re.sub(r'\\s+', ' ', string)\n",
    "        return string"
   ]
  },
  {
   "cell_type": "markdown",
   "metadata": {},
   "source": [
    "#### Navigating to a page"
   ]
  },
  {
   "cell_type": "markdown",
   "metadata": {},
   "source": [
    "We can navigate to a page just by extracting the link and using SeleniumRequest/driver.get(). But bear in mind that selenium response object from driver.get() doesn't work without selenium commands. To use scrapy command on the response object first convert it to a selector object using the scrapy.selector.Selector() function."
   ]
  },
  {
   "cell_type": "markdown",
   "metadata": {},
   "source": [
    "#### Handling infinite scrolling"
   ]
  },
  {
   "cell_type": "markdown",
   "metadata": {},
   "source": [
    "    last_height = driver.execute_script(\"return document.body.scrollHeight\")\n",
    "    while True:\n",
    "        # Scrolling down to the bottom\n",
    "        driver.execute_script(\"window.scrollTo(0, document.body.scrollHeight);\")\n",
    "\n",
    "        # Waiting for the page to load new content\n",
    "        time.sleep(5)\n",
    "\n",
    "        # Calculate new scroll height and compare with last scroll height\n",
    "        new_height = driver.execute_script(\"return document.body.scrollHeight\")\n",
    "        if new_height == last_height:\n",
    "            break\n",
    "        last_height = new_height\n"
   ]
  },
  {
   "cell_type": "markdown",
   "metadata": {},
   "source": [
    "### Populating the Item Fields"
   ]
  },
  {
   "cell_type": "markdown",
   "metadata": {},
   "source": [
    "\n",
    "        # First we use the Selector() function to convert the selenium response object to a selector object since selenium response doesn't work with scrapy commands.\n",
    "\n",
    "        self.html = driver.page_source\n",
    "        response = Selector(text=self.html)\n",
    "\n",
    "        # say we select some elements/items using a css/xpath selector.\n",
    "        xs = response.css(\"css selector\")\n",
    "        for x in xs:\n",
    "\n",
    "            # item - The item instance to populate using subsequent calls to add_xpath()/add_css()/add_value()\n",
    "            # selector - The selector object to extract data from, when using the add_xpath(), add_css(), replace_xpath(), or replace_css()\n",
    "\n",
    "            loader = ItemLoader(item=ItemClassName(), selector=)\n",
    "\n",
    "            # Now to populate the Item Fields \n",
    "\n",
    "            x_value = x.css(\"css selector\")\n",
    "\n",
    "            loader.add_value(field_name, value, *processors, **kw)\n",
    "            loader.add_css(field_name, css, *processors, **kw)\n",
    "            loader.add_xpath(field_name, xpath, *processors, **kw)\n",
    "\n",
    "            # ItemLoader.load_item() - Populate the item with the data collected so far, and return it. The data collected is first passed through the output processors to get the final value to assign to each item field.\n",
    "\n",
    "            yield loader.load_item()\n"
   ]
  },
  {
   "cell_type": "markdown",
   "metadata": {},
   "source": [
    "### The idea of Input and Output processors"
   ]
  },
  {
   "cell_type": "markdown",
   "metadata": {},
   "source": [
    "An Item Loader contains one input processor and one output processor for each (item) field. The input processor processes the extracted data as soon as it’s received (through the add_xpath(), add_css() or add_value() methods) and the result of the input processor is collected and kept inside the ItemLoader. <u>That's why input processors are usually used with the add_xpath(), add_css() or add_value() methods while populating the item fields.</u> After collecting all data, the ItemLoader.load_item() method is called to populate and get the populated item object. That’s when the output processor is called with the data previously collected (and processed using the input processor). The result of the output processor is the final value that gets assigned to the item. <u>And it is more common to declare the output processors in the field metadata, as they usually depend only on the field.</u>"
   ]
  },
  {
   "cell_type": "markdown",
   "metadata": {},
   "source": [
    " The processors are just callable objects, which are called with the data to be parsed, and returns a parsed value. So any function can be used as input or output processor. Both input and output processors must receive an iterable as their first argument. The output of those functions can be anything."
   ]
  },
  {
   "cell_type": "markdown",
   "metadata": {},
   "source": [
    "### Available built-in processors"
   ]
  },
  {
   "cell_type": "markdown",
   "metadata": {},
   "source": [
    "    from itemloaders import processors\n",
    "\n",
    "- <b>processors.MapCompose(*functions, **default_loader_context):</b> each input value is passed to the first function, and the result of that function is passed to the second function, and so on, until the last function returns the output value of this processor. By default, process stops on \"None\" value. This behaviour can be changed by passing keyword argument \"stop_on_none=False\". This processor provides a convenient way to compose functions that only work with single values (instead of iterables). For this reason the MapCompose processor is typically used as input processor, since data is often extracted using the extract() method of parsel selectors, which returns a list of unicode strings."
   ]
  },
  {
   "cell_type": "markdown",
   "metadata": {},
   "source": [
    "- <b>processors.TakeFirst:</b> Returns the first non-null/non-empty value from the values received, so it’s typically used as an output processor to single-valued fields."
   ]
  },
  {
   "cell_type": "markdown",
   "metadata": {},
   "source": [
    "There are some other available buit-in processors also. To learn about them visit, <url>https://itemloaders.readthedocs.io/en/latest/built-in-processors.html#built-in-processors</url>"
   ]
  },
  {
   "cell_type": "markdown",
   "metadata": {},
   "source": []
  }
 ],
 "metadata": {
  "kernelspec": {
   "display_name": "Python 3 (ipykernel)",
   "language": "python",
   "name": "python3"
  },
  "language_info": {
   "codemirror_mode": {
    "name": "ipython",
    "version": 3
   },
   "file_extension": ".py",
   "mimetype": "text/x-python",
   "name": "python",
   "nbconvert_exporter": "python",
   "pygments_lexer": "ipython3",
   "version": "3.9.13"
  }
 },
 "nbformat": 4,
 "nbformat_minor": 4
}
